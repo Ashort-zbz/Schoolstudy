{
 "cells": [
  {
   "cell_type": "code",
   "execution_count": 1,
   "metadata": {},
   "outputs": [
    {
     "name": "stdout",
     "output_type": "stream",
     "text": [
      "0    2.80\n",
      "1    3.01\n",
      "2    8.99\n",
      "3    8.59\n",
      "4    5.18\n",
      "dtype: float64\n",
      "北京    2.80\n",
      "上海    3.01\n",
      "广东    8.99\n",
      "江苏    8.59\n",
      "浙江    5.18\n",
      "dtype: float64\n",
      "0    2.80\n",
      "1    3.01\n",
      "2    8.99\n",
      "3    8.59\n",
      "4    5.18\n",
      "dtype: float64\n"
     ]
    }
   ],
   "source": [
    "# 导入模块\n",
    "import pandas as pd\n",
    "import numpy as np\n",
    "# 构造series（序列）\n",
    "gdp1 = pd.Series([2.8,3.01,8.99,8.59,5.18])\n",
    "gdp2 = pd.Series({'北京':2.8,'上海':3.01,'广东':8.99,'江苏':8.59,'浙江':5.18})\n",
    "gdp3 = pd.Series(np.array((2.8,3.01,8.99,8.59,5.18)))\n",
    "print(gdp1)\n",
    "print(gdp2)\n",
    "print(gdp3)"
   ]
  },
  {
   "cell_type": "code",
   "execution_count": 2,
   "metadata": {},
   "outputs": [
    {
     "name": "stdout",
     "output_type": "stream",
     "text": [
      "行号风格的序列：\n",
      " 0    2.80\n",
      "3    8.59\n",
      "4    5.18\n",
      "dtype: float64\n",
      "行名称风格的序列：\n",
      " 北京    2.80\n",
      "江苏    8.59\n",
      "浙江    5.18\n",
      "dtype: float64\n",
      "行名称风格的序列：\n",
      " 上海    3.01\n",
      "江苏    8.59\n",
      "浙江    5.18\n",
      "dtype: float64\n",
      "通过numpy函数：\n",
      " 0    1.029619\n",
      "1    1.101940\n",
      "2    2.196113\n",
      "3    2.150599\n",
      "4    1.644805\n",
      "dtype: float64\n",
      "通过numpy函数：\n",
      " 5.714\n",
      "通过序列的方法：\n",
      " 5.714\n"
     ]
    }
   ],
   "source": [
    "'''通过列表、元组或者一维数组构造的序列会产生两列，第一列属于序列行索引自动从0开始，第二列是序列实际值。\n",
    "通过字典构造的序列第一列对应字典的键。序列与一维数组很相似，获取一维数组元素的所有索引方法可以用在序列上\n",
    "而且序列有更多其他处理的方法'''\n",
    "# 取出gdp1中的第一、第四和第五个元素\n",
    "print('行号风格的序列：\\n',gdp1[[0,3,4]])\n",
    "# 取出gdp2中的第一、第四和第五个元素\n",
    "print('行名称风格的序列：\\n',gdp2[[0,3,4]])\n",
    "# 取出gdp2中上海、江苏和浙江的GDP值\n",
    "print('行名称风格的序列：\\n',gdp2[['上海','江苏','浙江']])\n",
    "# 数学函数--取对数\n",
    "print('通过numpy函数：\\n',np.log(gdp1))\n",
    "# 平均gdp\n",
    "print('通过numpy函数：\\n',np.mean(gdp1))\n",
    "print('通过序列的方法：\\n',gdp1.mean())\n"
   ]
  },
  {
   "cell_type": "code",
   "execution_count": 3,
   "metadata": {},
   "outputs": [
    {
     "name": "stdout",
     "output_type": "stream",
     "text": [
      "嵌套列表构造数据框：\n",
      "     0   1  2\n",
      "0  张三  23  男\n",
      "1  李四  27  女\n",
      "2  王二  26  女\n",
      "字典构造数据框：\n",
      "    姓名  年龄 性别\n",
      "0  张三  23  男\n",
      "1  李四  27  女\n",
      "2  王二  26  女\n",
      "二维数组构造数据框：\n",
      "     0   1  2\n",
      "0  张三  23  男\n",
      "1  李四  27  女\n",
      "2  王二  26  女\n"
     ]
    }
   ],
   "source": [
    "# 构造dataframe（数据框）\n",
    "df1 = pd.DataFrame([['张三',23,'男'],['李四',27,'女'],['王二',26,'女']])\n",
    "df2 = pd.DataFrame({'姓名':['张三','李四','王二'],'年龄':[23,27,26],'性别':['男','女','女']})\n",
    "df3 = pd.DataFrame(np.array([['张三',23,'男'],['李四',27,'女'],['王二',26,'女']]))\n",
    "print('嵌套列表构造数据框：\\n',df1)\n",
    "print('字典构造数据框：\\n',df2)\n",
    "print('二维数组构造数据框：\\n',df3)"
   ]
  },
  {
   "cell_type": "code",
   "execution_count": 4,
   "metadata": {},
   "outputs": [
    {
     "name": "stdout",
     "output_type": "stream",
     "text": [
      "    birthday gender occupation  income\n",
      "0 1990-03-07      男       销售经理    6000\n",
      "1 1989-08-10      女        化妆师    8500\n",
      "2 1992-10-07      女       前端设计    6500\n",
      "3 1985-06-15      男      数据分析师   18000\n"
     ]
    }
   ],
   "source": [
    "#读入外部文本文件\n",
    "user_income = pd.read_table(r'F:\\\\DataMining\\\\python_DataMining\\\\Chapter5PythonDataProcessingTools-Pandas\\\\data_test01.txt', \n",
    "                            sep = ',', parse_dates={'birthday':[0,1,2]},skiprows=2, skipfooter=3, \n",
    "                            comment='#', encoding='utf8', thousands='&', engine='python')\n",
    "#读取文本文件时需要在读取函数中加入参数engine='python'才能正常运行\n",
    "print(user_income)"
   ]
  },
  {
   "cell_type": "code",
   "execution_count": 5,
   "metadata": {},
   "outputs": [
    {
     "name": "stdout",
     "output_type": "stream",
     "text": [
      "  Prod_Id Prod_Name Prod_Color  Prod_Price\n",
      "0   00101       儿童裤         黑色         109\n",
      "1   01123      儿童上衣         红色         229\n",
      "2   01010       儿童鞋         蓝色         199\n",
      "3   00100      儿童内衣         灰色         159\n"
     ]
    }
   ],
   "source": [
    "#读入外部Excel文件\n",
    "child_cloth = pd.read_excel(io = r'F:\\\\DataMining\\\\python_DataMining\\\\Chapter5PythonDataProcessingTools-Pandas\\\\data_test02.xlsx', \n",
    "                            header = None, names = ['Prod_Id','Prod_Name','Prod_Color','Prod_Price'], \n",
    "                            converters = {0:str})\n",
    "print(child_cloth)"
   ]
  },
  {
   "cell_type": "code",
   "execution_count": 6,
   "metadata": {},
   "outputs": [
    {
     "name": "stdout",
     "output_type": "stream",
     "text": [
      "  Brand                        Name Boarding_time  Km(W) Discharge  Sec_price  \\\n",
      "0    众泰    众泰T600 2016款 1.5T 手动 豪华型       2016年5月   3.96        国4        6.8   \n",
      "1    众泰    众泰Z700 2016款 1.8T 手动 典雅型       2017年8月   0.08     国4,国5        8.8   \n",
      "2    众泰      大迈X5 2015款 1.5T 手动 豪华型       2016年9月   0.80        国4        5.8   \n",
      "3    众泰  众泰T600 2017款 1.5T 手动 精英贺岁版       2017年3月   0.30        国5        6.2   \n",
      "4    众泰    众泰T600 2016款 1.5T 手动 旗舰型       2016年2月   1.70        国4        7.0   \n",
      "\n",
      "  New_price  \n",
      "0     9.42万  \n",
      "1    11.92万  \n",
      "2     8.56万  \n",
      "3     8.66万  \n",
      "4    11.59万  \n"
     ]
    }
   ],
   "source": [
    "#了解数据，数据类型转换以及统计描述\n",
    "# 数据读取\n",
    "sec_cars = pd.read_table(r'F:\\\\DataMining\\\\python_DataMining\\\\Chapter5PythonDataProcessingTools-Pandas\\\\sec_cars.csv', \n",
    "                         sep = ',')\n",
    "# 预览数据的前五行\n",
    "print(sec_cars.head())"
   ]
  },
  {
   "cell_type": "code",
   "execution_count": 7,
   "metadata": {},
   "outputs": [
    {
     "name": "stdout",
     "output_type": "stream",
     "text": [
      "数据集的行列数：\n",
      " (10984, 7)\n",
      "各变量的数据类型：\n",
      " Brand             object\n",
      "Name              object\n",
      "Boarding_time     object\n",
      "Km(W)            float64\n",
      "Discharge         object\n",
      "Sec_price        float64\n",
      "New_price         object\n",
      "dtype: object\n"
     ]
    }
   ],
   "source": [
    "# 查看数据的行列数\n",
    "print('数据集的行列数：\\n',sec_cars.shape)\n",
    "# 查看数据集每个变量的数据类型\n",
    "print('各变量的数据类型：\\n',sec_cars.dtypes)"
   ]
  },
  {
   "cell_type": "code",
   "execution_count": 8,
   "metadata": {},
   "outputs": [
    {
     "name": "stdout",
     "output_type": "stream",
     "text": [
      "Brand                    object\n",
      "Name                     object\n",
      "Boarding_time    datetime64[ns]\n",
      "Km(W)                   float64\n",
      "Discharge                object\n",
      "Sec_price               float64\n",
      "New_price               float64\n",
      "dtype: object\n"
     ]
    }
   ],
   "source": [
    "# 修改二手车上牌时间的数据类型\n",
    "sec_cars.Boarding_time = pd.to_datetime(sec_cars.Boarding_time, format = '%Y年%m月')\n",
    "# 修改二手车新车价格的数据类型\n",
    "sec_cars.New_price = sec_cars.New_price.str[:-1].astype('float')\n",
    "# 重新查看各变量数据类型\n",
    "print(sec_cars.dtypes)"
   ]
  },
  {
   "cell_type": "code",
   "execution_count": 9,
   "metadata": {},
   "outputs": [
    {
     "name": "stdout",
     "output_type": "stream",
     "text": [
      "              Km(W)     Sec_price     New_price\n",
      "count  10984.000000  10984.000000  10984.000000\n",
      "mean       6.266357     25.652192     51.326006\n",
      "std        3.480678     52.770268     79.682066\n",
      "min        0.020000      0.650000      2.910000\n",
      "25%        4.000000      5.200000     16.050000\n",
      "50%        6.000000     10.200000     26.690000\n",
      "75%        8.200000     23.800000     52.210000\n",
      "max       34.600000    808.000000    976.920000\n"
     ]
    },
    {
     "data": {
      "text/html": [
       "<div>\n",
       "<style scoped>\n",
       "    .dataframe tbody tr th:only-of-type {\n",
       "        vertical-align: middle;\n",
       "    }\n",
       "\n",
       "    .dataframe tbody tr th {\n",
       "        vertical-align: top;\n",
       "    }\n",
       "\n",
       "    .dataframe thead th {\n",
       "        text-align: right;\n",
       "    }\n",
       "</style>\n",
       "<table border=\"1\" class=\"dataframe\">\n",
       "  <thead>\n",
       "    <tr style=\"text-align: right;\">\n",
       "      <th></th>\n",
       "      <th>Km(W)</th>\n",
       "      <th>Sec_price</th>\n",
       "      <th>New_price</th>\n",
       "    </tr>\n",
       "  </thead>\n",
       "  <tbody>\n",
       "    <tr>\n",
       "      <td>Skew</td>\n",
       "      <td>0.829915</td>\n",
       "      <td>6.313738</td>\n",
       "      <td>4.996912</td>\n",
       "    </tr>\n",
       "    <tr>\n",
       "      <td>Kurt</td>\n",
       "      <td>2.406258</td>\n",
       "      <td>55.381915</td>\n",
       "      <td>33.519911</td>\n",
       "    </tr>\n",
       "  </tbody>\n",
       "</table>\n",
       "</div>"
      ],
      "text/plain": [
       "         Km(W)  Sec_price  New_price\n",
       "Skew  0.829915   6.313738   4.996912\n",
       "Kurt  2.406258  55.381915  33.519911"
      ]
     },
     "execution_count": 9,
     "metadata": {},
     "output_type": "execute_result"
    }
   ],
   "source": [
    "# 数据的描述性统计\n",
    "print(sec_cars.describe())\n",
    "# 数据的形状特征\n",
    "# 挑出所有数值型变量\n",
    "num_variables = sec_cars.columns[sec_cars.dtypes !='object'][1:]\n",
    "# 自定义函数，计算偏度和峰度\n",
    "def skew_kurt(x):\n",
    "    skewness = x.skew()\n",
    "    kurtsis = x.kurt()\n",
    "    # 返回偏度值和峰度值\n",
    "    return pd.Series([skewness,kurtsis], index = ['Skew','Kurt'])\n",
    "# 运用apply方法\n",
    "sec_cars[num_variables].apply(func = skew_kurt, axis = 0)"
   ]
  },
  {
   "cell_type": "code",
   "execution_count": 10,
   "metadata": {},
   "outputs": [
    {
     "name": "stdout",
     "output_type": "stream",
     "text": [
      "       Freq  Freq_ratio\n",
      "国4     4262    0.388019\n",
      "欧4     1848    0.168245\n",
      "欧5     1131    0.102968\n",
      "国4,国5   843    0.076748\n",
      "国3      772    0.070284\n"
     ]
    }
   ],
   "source": [
    "# 离散型变量的统计描述\n",
    "sec_cars.describe(include = ['object'])\n",
    "# 离散变量频次统计\n",
    "Freq = sec_cars.Discharge.value_counts()\n",
    "Freq_ratio = Freq/sec_cars.shape[0]\n",
    "Freq_df = pd.DataFrame({'Freq':Freq,'Freq_ratio':Freq_ratio})\n",
    "print(Freq_df.head())"
   ]
  },
  {
   "cell_type": "code",
   "execution_count": 11,
   "metadata": {},
   "outputs": [
    {
     "name": "stdout",
     "output_type": "stream",
     "text": [
      "   index  Freq  Freq_ratio\n",
      "0     国4  4262    0.388019\n",
      "1     欧4  1848    0.168245\n",
      "2     欧5  1131    0.102968\n",
      "3  国4,国5   843    0.076748\n",
      "4     国3   772    0.070284\n"
     ]
    }
   ],
   "source": [
    "# 将行索引重设为变量\n",
    "Freq_df.reset_index(inplace = True)\n",
    "print(Freq_df.head())"
   ]
  },
  {
   "cell_type": "code",
   "execution_count": 12,
   "metadata": {},
   "outputs": [
    {
     "name": "stdout",
     "output_type": "stream",
     "text": [
      "name                  object\n",
      "gender                object\n",
      "birthday              object\n",
      "start_work    datetime64[ns]\n",
      "income                 int64\n",
      "tel                    int64\n",
      "email                 object\n",
      "other                 object\n",
      "dtype: object\n",
      "  name gender  income          tel            email  age  workage  \\\n",
      "0   赵一      男   15000  136****1234    zhaoyi@qq.com   31        8   \n",
      "1   王二      男   12500  135****2234   wanger@163.com   30        6   \n",
      "2   张三      女   18500  135****3330  zhangsan@qq.com   33       11   \n",
      "3   李四      女   13000  139****3388   lisi@gmail.com   29        6   \n",
      "4   刘五      女    8500  178****7890     liuwu@qq.com   28        6   \n",
      "\n",
      "  email_domain profession  \n",
      "0       qq.com     [电子商务]  \n",
      "1      163.com       [汽修]  \n",
      "2       qq.com       [数学]  \n",
      "3    gmail.com      [统计学]  \n",
      "4       qq.com       [美术]  \n"
     ]
    }
   ],
   "source": [
    "#字符串与日期数据的处理\n",
    "# 数据读入\n",
    "df = pd.read_excel(r'F:\\\\DataMining\\\\python_DataMining\\\\Chapter5PythonDataProcessingTools-Pandas\\\\data_test03.xlsx')\n",
    "# 各变量数据类型\n",
    "print(df.dtypes)\n",
    "# 将birthday变量转换为日期型\n",
    "#to_datetime将变量转换为日期型，按照原始的birthday格式设置format\n",
    "df.birthday = pd.to_datetime(df.birthday, format = '%Y/%m/%d')\n",
    "# 将手机号转换为字符串，用astype方法\n",
    "df.tel = df.tel.astype('str')\n",
    "# 新增年龄和工龄两列\n",
    "df['age'] = pd.datetime.today().year - df.birthday.dt.year\n",
    "df['workage'] = pd.datetime.today().year - df.start_work.dt.year\n",
    "# 将手机号中间四位隐藏起来\n",
    "df.tel = df.tel.apply(func = lambda x : x.replace(x[3:7], '****'))\n",
    "# 取出邮箱的域名\n",
    "df['email_domain'] = df.email.apply(func = lambda x : x.split('@')[1])\n",
    "# 取出用户的专业信息\n",
    "df['profession'] = df.other.str.findall('专业：(.*?)，')\n",
    "# 去除birthday、start_work和other变量\n",
    "df.drop(['birthday','start_work','other'], axis = 1, inplace = True)\n",
    "print(df.head())"
   ]
  },
  {
   "cell_type": "code",
   "execution_count": 13,
   "metadata": {},
   "outputs": [
    {
     "name": "stdout",
     "output_type": "stream",
     "text": [
      "返回日期值：\n",
      " 0    1989-08-18\n",
      "1    1995-02-16\n",
      "dtype: object\n",
      "返回季度：\n",
      " 0    3\n",
      "1    1\n",
      "dtype: int64\n",
      "返回几点钟：\n",
      " 0    13\n",
      "1     0\n",
      "dtype: int64\n",
      "返回年中的天：\n",
      " 0    230\n",
      "1     47\n",
      "dtype: int64\n",
      "返回年中的周：\n",
      " 0    33\n",
      "1     7\n",
      "dtype: int64\n",
      "返回星期几的名称：\n",
      " 0      Friday\n",
      "1    Thursday\n",
      "dtype: object\n",
      "返回月份的天数：\n",
      " 0    31\n",
      "1    28\n",
      "dtype: int64\n"
     ]
    }
   ],
   "source": [
    "# 常用日期处理方法\n",
    "dates = pd.to_datetime(pd.Series(['1989-8-18 13:14:55','1995-2-16']), format = '%Y-%m-%d %H:%M:%S')\n",
    "print('返回日期值：\\n',dates.dt.date)\n",
    "print('返回季度：\\n',dates.dt.quarter)\n",
    "print('返回几点钟：\\n',dates.dt.hour)\n",
    "print('返回年中的天：\\n',dates.dt.dayofyear)\n",
    "print('返回年中的周：\\n',dates.dt.weekofyear)\n",
    "print('返回星期几的名称：\\n',dates.dt.weekday_name)\n",
    "print('返回月份的天数：\\n',dates.dt.days_in_month)"
   ]
  },
  {
   "cell_type": "code",
   "execution_count": 14,
   "metadata": {},
   "outputs": [
    {
     "name": "stdout",
     "output_type": "stream",
     "text": [
      "标准差法异常值上限检测：\n",
      " True\n",
      "标准差法异常值下限检测：\n",
      " False\n",
      "箱线图法异常值上限检测：\n",
      " True\n",
      "箱线图法异常值下限检测：\n",
      " False\n"
     ]
    },
    {
     "data": {
      "image/png": "[encoded data removed]",
      "text/plain": [
       "<Figure size 432x288 with 1 Axes>"
      ]
     },
     "metadata": {},
     "output_type": "display_data"
    },
    {
     "name": "stdout",
     "output_type": "stream",
     "text": [
      "异常值替换前的数据统计特征：\n",
      " count    289.000000\n",
      "mean      48.613495\n",
      "std       39.474103\n",
      "min        0.000000\n",
      "25%       15.600000\n",
      "50%       39.000000\n",
      "75%       68.900000\n",
      "max      190.200000\n",
      "Name: counts, dtype: float64\n",
      "判别异常值的上限临界值：\n",
      " 148.85000000000002\n",
      "用以替换异常值的数据：\n",
      " 141.7\n",
      "异常值替换后的数据统计特征：\n",
      " count    289.000000\n",
      "mean      48.066090\n",
      "std       37.918895\n",
      "min        0.000000\n",
      "25%       15.600000\n",
      "50%       39.000000\n",
      "75%       68.900000\n",
      "max      141.700000\n",
      "Name: counts, dtype: float64\n"
     ]
    },
    {
     "name": "stderr",
     "output_type": "stream",
     "text": [
      "C:\\Users\\12970\\Anaconda3\\envs\\test\\lib\\site-packages\\ipykernel_launcher.py:36: SettingWithCopyWarning: \n",
      "A value is trying to be set on a copy of a slice from a DataFrame\n",
      "\n",
      "See the caveats in the documentation: http://pandas.pydata.org/pandas-docs/stable/user_guide/indexing.html#returning-a-view-versus-a-copy\n"
     ]
    }
   ],
   "source": [
    "#异常值的处理\n",
    "# 数据读入\n",
    "sunspots = pd.read_table(r'F:\\\\DataMining\\\\python_DataMining\\\\Chapter5PythonDataProcessingTools-Pandas\\\\sunspots.csv', sep = ',')\n",
    "# 异常值检测之标准差法\n",
    "xbar = sunspots.counts.mean()\n",
    "xstd = sunspots.counts.std()\n",
    "print('标准差法异常值上限检测：\\n',any(sunspots.counts > xbar + 2 * xstd))\n",
    "print('标准差法异常值下限检测：\\n',any(sunspots.counts < xbar - 2 * xstd))\n",
    "# 异常值检测之箱线图法\n",
    "Q1 = sunspots.counts.quantile(q = 0.25)\n",
    "Q3 = sunspots.counts.quantile(q = 0.75)\n",
    "IQR = Q3 - Q1\n",
    "print('箱线图法异常值上限检测：\\n',any(sunspots.counts > Q3 + 1.5 * IQR))\n",
    "print('箱线图法异常值下限检测：\\n',any(sunspots.counts < Q1 - 1.5 * IQR))\n",
    "\n",
    "# 导入绘图模块\n",
    "import matplotlib.pyplot as plt \n",
    "# 设置绘图风格\n",
    "plt.style.use('ggplot')\n",
    "# 绘制直方图\n",
    "sunspots.counts.plot(kind = 'hist', bins = 30, density = True)\n",
    "# 绘制核密度图\n",
    "sunspots.counts.plot(kind = 'kde')\n",
    "# 图形展现\n",
    "plt.show()\n",
    "\n",
    "# 替换法处理异常值\n",
    "print('异常值替换前的数据统计特征：\\n',sunspots.counts.describe())\n",
    "# 箱线图中的异常值判别上限\n",
    "UL = Q3 + 1.5 * IQR\n",
    "print('判别异常值的上限临界值：\\n',UL)\n",
    "# 从数据中找出低于判别上限的最大值\n",
    "replace_value = sunspots.counts[sunspots.counts < UL].max()\n",
    "print('用以替换异常值的数据：\\n',replace_value)\n",
    "# 替换超过判别上限异常值\n",
    "sunspots.counts[sunspots.counts > UL] = replace_value\n",
    "print('异常值替换后的数据统计特征：\\n',sunspots.counts.describe())"
   ]
  },
  {
   "cell_type": "code",
   "execution_count": null,
   "metadata": {},
   "outputs": [],
   "source": []
  }
 ],
 "metadata": {
  "kernelspec": {
   "display_name": "Python 3",
   "language": "python",
   "name": "python3"
  },
  "language_info": {
   "codemirror_mode": {
    "name": "ipython",
    "version": 3
   },
   "file_extension": ".py",
   "mimetype": "text/x-python",
   "name": "python",
   "nbconvert_exporter": "python",
   "pygments_lexer": "ipython3",
   "version": "3.7.4"
  }
 },
 "nbformat": 4,
 "nbformat_minor": 4
}
