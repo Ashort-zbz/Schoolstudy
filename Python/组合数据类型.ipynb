{
 "cells": [
  {
   "cell_type": "markdown",
   "metadata": {},
   "source": [
    "# Python组合数据类型\n",
    "- 了解3类基本组合数据类型\n",
    "- 理解列表概念并掌握Python中列表的使用\n",
    "- 理解字典概念并掌握Python中字典的使用\n",
    "- 运用列表管理采集的信息，构建数据结构\n",
    "- 运用字典处理复杂数据信息\n",
    "- 运用组合数据类型进行文本词频统计\n",
    "## 1 组合数据类型概述\n",
    "组合数据类型分为3类：\n",
    "- 序列类型：元素向量，元素见存在先后关系，通过序号访问，元素之间不排他\n",
    "- 集合类型：元素集合，元素之间无序，相同元素在集合唯一存在\n",
    "- 映射类型：“键-值”数据项的组合，每个元素是一个键值对，表示为(key, value)\n",
    "### 1.1序列类型\n",
    "序列的基本思想和表示方法均来源于数学概念。在数学中，经常给每一个序列一个名字，例如n个数的序列S，可以表示为：\n",
    "$$\t\t\t\t\n",
    "S = s_0,s_1,s_2,\\cdots,s_n-1\n",
    "$$\n",
    "当需要访问序列中某一特定值时，只需要通过下标标出即可。并且都可以使用相同的索引体系，即正向递增序号和反向递减序号。序列类型支持成员关系操作符（in）、长度计算函数（len()）、分片（[]），元素本身也可以是序列类型。Python中很多数据类型都是序列类型，其中比较重要的是str（字符串）、tuple（元组）和list（列表）。序列类型的通用操作符和函数如下：\n",
    "\n",
    "| 操作符                        | 描述                                                 |\n",
    "| ----------------------------- | ---------------------------------------------------- |\n",
    "| x in s                        | 如果x是序列s的元素，返回True，否则返回False          |\n",
    "| x not in s                    | 如果x是序列s的元素，返回False，否则返回True          |\n",
    "| s + t                         | 连接两个序列s和t                                     |\n",
    "| s*n 或 n*s                    | 将序列s复制n次                                       |\n",
    "| s[i]                          | 索引，返回s中的第i个元素，i是序列的序号              |\n",
    "| s[i: j] 或 s[i: j: k]         | 切片，返回序列s中第i到j以k为步长的元素子序列         |\n",
    "| len(s)                        | 返回序列 s 的长度                                    |\n",
    "| min(s)                        | 返回序列 s 的最小元素，s 中元素需要可比较            |\n",
    "| max(s)                        | 返回序列 s 的最大元素，s 中元素需要可比较            |\n",
    "| s.index(x) 或s.index(x, i, j) | 返回序列 s 从 i 开始到 j 位置中第一次出现元素x的位置 |\n",
    "| s.count(x)                    | 返回序列 s 中出现x的总次数                           |\n",
    "\n",
    "元组（tuple）是序列类型中比较特殊的类型，一旦创建就不能被修改。元组在表达固定数据项、函数返回值、多变量同步赋值、循环遍历等情况下很有用。"
   ]
  },
  {
   "cell_type": "code",
   "execution_count": 3,
   "metadata": {},
   "outputs": [
    {
     "name": "stdout",
     "output_type": "stream",
     "text": [
      "('cat', 'dog', 'tiger', 'human')\n",
      "('red', 4352, 'blue', ('cat', 'dog', 'tiger', 'human'))\n",
      "blue\n",
      "tiger\n",
      "dog\n"
     ]
    }
   ],
   "source": [
    "#元组的有关操作\n",
    "creature = \"cat\",\"dog\",\"tiger\",\"human\"\n",
    "print(creature)\n",
    "color = (\"red\", 0x001100, \"blue\", creature)#一个元组可作为另一元组的元素\n",
    "print(color)\n",
    "print(color[2])\n",
    "print(color[-1][2])\n",
    "a, b = 'dog', 'tiger'#多变量同步赋值\n",
    "print(a)"
   ]
  },
  {
   "cell_type": "markdown",
   "metadata": {},
   "source": [
    "### 1.2集合类型\n",
    "集合类型与数学中集合概念一致，即包含0个或多个数据项的无序组合，元素不可重复，元素类型只能是固定数据类型，列表、字典和集合类型本身都是可变数据类型，不能作为集合元素出现。\n",
    "\n",
    "Python编译器中界定固定数据类型与否主要考察类型是否能够进行哈希运算，能进行哈希运算的类型都是固定数据类型。哈希运算可将任意长度的二进制值映射为较短的固定长度的二进制，这个小的二进制值称为哈希值。哈希值是对数据的一种有损且紧凑的表示形式。Python提供了内置的哈希运算函数hash()，它可对大多数数据类型产生一个哈希值，如"
   ]
  },
  {
   "cell_type": "code",
   "execution_count": 4,
   "metadata": {},
   "outputs": [
    {
     "name": "stdout",
     "output_type": "stream",
     "text": [
      "4165892098097293295\n",
      "123456\n"
     ]
    }
   ],
   "source": [
    "print(hash(\"python\"))\n",
    "print(hash(123456))"
   ]
  },
  {
   "cell_type": "code",
   "execution_count": null,
   "metadata": {},
   "outputs": [],
   "source": []
  }
 ],
 "metadata": {
  "kernelspec": {
   "display_name": "Python 3",
   "language": "python",
   "name": "python3"
  },
  "language_info": {
   "codemirror_mode": {
    "name": "ipython",
    "version": 3
   },
   "file_extension": ".py",
   "mimetype": "text/x-python",
   "name": "python",
   "nbconvert_exporter": "python",
   "pygments_lexer": "ipython3",
   "version": "3.7.4"
  }
 },
 "nbformat": 4,
 "nbformat_minor": 2
}
