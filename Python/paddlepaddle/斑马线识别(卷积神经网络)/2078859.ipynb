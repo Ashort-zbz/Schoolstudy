{
 "cells": [
  {
   "cell_type": "markdown",
   "metadata": {
    "collapsed": false
   },
   "source": [
    "## 任务描述：\n",
    "\n",
    "### 如何根据据图像的视觉内容为图像赋予一个语义类别是**图像分类**的目标，也是图像检索、图像内容分析和目标识别等问题的基础。\n",
    "\n",
    "### 实践内容：利用飞桨动态图搭建一个**卷积神经网络**，对包含斑马线的马路和不包含斑马线的马路图像进行分类。\n",
    "\n",
    "### 特别提示：本实践所用数据集均来自互联网，请勿用于商务用途。"
   ]
  },
  {
   "cell_type": "code",
   "execution_count": 1,
   "metadata": {
    "collapsed": false
   },
   "outputs": [
    {
     "name": "stderr",
     "output_type": "stream",
     "text": [
      "/opt/conda/envs/python35-paddle120-env/lib/python3.7/site-packages/matplotlib/__init__.py:107: DeprecationWarning: Using or importing the ABCs from 'collections' instead of from 'collections.abc' is deprecated, and in 3.8 it will stop working\n",
      "  from collections import MutableMapping\n",
      "/opt/conda/envs/python35-paddle120-env/lib/python3.7/site-packages/matplotlib/rcsetup.py:20: DeprecationWarning: Using or importing the ABCs from 'collections' instead of from 'collections.abc' is deprecated, and in 3.8 it will stop working\n",
      "  from collections import Iterable, Mapping\n",
      "/opt/conda/envs/python35-paddle120-env/lib/python3.7/site-packages/matplotlib/colors.py:53: DeprecationWarning: Using or importing the ABCs from 'collections' instead of from 'collections.abc' is deprecated, and in 3.8 it will stop working\n",
      "  from collections import Sized\n"
     ]
    }
   ],
   "source": [
    "import os\r\n",
    "import zipfile\r\n",
    "import random\r\n",
    "import paddle\r\n",
    "import numpy as np\r\n",
    "import matplotlib.pyplot as plt\r\n",
    "import PIL.Image as Image\r\n",
    "from paddle.io import Dataset\r\n",
    "import paddle.nn.functional as F"
   ]
  },
  {
   "cell_type": "code",
   "execution_count": 2,
   "metadata": {
    "collapsed": false
   },
   "outputs": [],
   "source": [
    "'''\r\n",
    "参数配置\r\n",
    "'''\r\n",
    "train_parameters = {\r\n",
    "    \"input_size\": [3, 50, 50],                                #输入图片的shape\r\n",
    "    \"class_dim\": 2,                                          #分类数\r\n",
    "    \"src_path\":\"data/data55217/Zebra.zip\",                    #原始数据集路径\r\n",
    "    \"target_path\":\"/home/aistudio/data/\",                     #要解压的路径\r\n",
    "    \"train_list_path\": \"/home/aistudio/data/train.txt\",       #train.txt路径\r\n",
    "    \"eval_list_path\": \"/home/aistudio/data/eval.txt\",         #eval.txt路径\r\n",
    "    \"label_dict\":{'0':'zebra crossing','1':'others'},         #标签字典\r\n",
    "    \"num_epochs\": 2,                                         #训练轮数\r\n",
    "    \"train_batch_size\": 16,                                   #训练时每个批次的大小\r\n",
    "    \"learning_strategy\": {                                    #优化函数相关的配置\r\n",
    "        \"lr\": 0.01                                            #超参数学习率\r\n",
    "    }, \r\n",
    "    'skip_steps': 5,                                         #每N个批次打印一次结果\r\n",
    "    'save_steps': 10,                                         #每N个批次保存一次模型参数\r\n",
    "    \"checkpoints\": \"/home/aistudio/work/checkpoints\"          #保存的路径\r\n",
    "\r\n",
    "}"
   ]
  },
  {
   "cell_type": "markdown",
   "metadata": {
    "collapsed": false
   },
   "source": [
    "# **一、数据准备**\n",
    "\n",
    "### （1）解压原始数据集\n",
    "\n",
    "### （2）按照比例划分训练集与验证集\n",
    "\n",
    "### （3）乱序，生成数据列表\n",
    "\n",
    "### （4）构造训练数据集提供器和验证数据集提供器"
   ]
  },
  {
   "cell_type": "code",
   "execution_count": 3,
   "metadata": {
    "collapsed": false
   },
   "outputs": [],
   "source": [
    "\r\n",
    "#解压原始数据集\r\n",
    "def unzip_data(src_path,target_path):\r\n",
    "    '''\r\n",
    "    解压原始数据集，将src_path路径下的zip包解压至target_path目录下\r\n",
    "    '''\r\n",
    "    if(not os.path.isdir(target_path + \"zebra crossing\")):     \r\n",
    "        z = zipfile.ZipFile(src_path, 'r')\r\n",
    "        z.extractall(path=target_path)\r\n",
    "        z.close()\r\n",
    "        print('数据集解压完成')\r\n",
    "    else:\r\n",
    "        print('文件已存在')"
   ]
  },
  {
   "cell_type": "code",
   "execution_count": 4,
   "metadata": {
    "collapsed": false
   },
   "outputs": [],
   "source": [
    "def get_data_list(target_path,train_list_path,eval_list_path):\r\n",
    "    '''\r\n",
    "    生成数据列表\r\n",
    "    '''\r\n",
    "    data_list_path_1=target_path+\"zebra crossing/\"\r\n",
    "    data_list_path_2=target_path+\"others/\"\r\n",
    "    class_dirs = os.listdir(data_list_path_1)\r\n",
    "    all_data_list = []\r\n",
    "\r\n",
    "    for im in os.listdir(data_list_path_1):\r\n",
    "        img_path = target_path+\"zebra crossing/\" + im\r\n",
    "        all_data_list.append(img_path + '\\t' + '0'+'\\n')\r\n",
    " \r\n",
    "    for im in os.listdir(data_list_path_2):\r\n",
    "        img_path = target_path+\"others/\" + im\r\n",
    "        all_data_list.append(img_path + '\\t' + '1' + '\\n')\r\n",
    "\r\n",
    "    #对列表进行乱序\r\n",
    "    random.shuffle(all_data_list)\r\n",
    "\r\n",
    "    with open(train_list_path, 'a') as f1:\r\n",
    "        with open(eval_list_path, 'a') as f2:\r\n",
    "            for ind, img_path_label in enumerate(all_data_list):\r\n",
    "                #划分测试集和训练集\r\n",
    "                if ind % 10 == 0:\r\n",
    "                    f2.write(img_path_label) \r\n",
    "                else:\r\n",
    "                    f1.write(img_path_label)\r\n",
    "    print ('生成数据列表完成！')"
   ]
  },
  {
   "cell_type": "code",
   "execution_count": 5,
   "metadata": {
    "collapsed": false
   },
   "outputs": [
    {
     "name": "stdout",
     "output_type": "stream",
     "text": [
      "文件已存在\n",
      "生成数据列表完成！\n"
     ]
    }
   ],
   "source": [
    "#参数初始化\r\n",
    "src_path=train_parameters['src_path']\r\n",
    "target_path=train_parameters['target_path']\r\n",
    "train_list_path=train_parameters['train_list_path']\r\n",
    "eval_list_path=train_parameters['eval_list_path']\r\n",
    "\r\n",
    "#解压原始数据到指定路径\r\n",
    "unzip_data(src_path,target_path)\r\n",
    "\r\n",
    "#每次生成数据列表前，首先清空train.txt和eval.txt\r\n",
    "with open(train_list_path, 'w') as f: \r\n",
    "    f.seek(0)\r\n",
    "    f.truncate() \r\n",
    "with open(eval_list_path, 'w') as f: \r\n",
    "    f.seek(0)\r\n",
    "    f.truncate() \r\n",
    "#生成数据列表   \r\n",
    "get_data_list(target_path,train_list_path,eval_list_path)"
   ]
  },
  {
   "cell_type": "code",
   "execution_count": 6,
   "metadata": {
    "collapsed": false
   },
   "outputs": [],
   "source": [
    "class dataset(Dataset):\r\n",
    "    def __init__(self, data_path, mode='train'):\r\n",
    "        \"\"\"\r\n",
    "        数据读取器\r\n",
    "        :param data_path: 数据集所在路径\r\n",
    "        :param mode: train or eval\r\n",
    "        \"\"\"\r\n",
    "        super().__init__()\r\n",
    "        self.data_path = data_path\r\n",
    "        self.img_paths = []\r\n",
    "        self.labels = []\r\n",
    "\r\n",
    "        if mode == 'train':\r\n",
    "            with open(os.path.join(self.data_path, \"train.txt\"), \"r\", encoding=\"utf-8\") as f:\r\n",
    "                self.info = f.readlines()\r\n",
    "            for img_info in self.info:\r\n",
    "                img_path, label = img_info.strip().split('\\t')\r\n",
    "                self.img_paths.append(img_path)\r\n",
    "                self.labels.append(int(label))\r\n",
    "\r\n",
    "        else:\r\n",
    "            with open(os.path.join(self.data_path, \"eval.txt\"), \"r\", encoding=\"utf-8\") as f:\r\n",
    "                self.info = f.readlines()\r\n",
    "            for img_info in self.info:\r\n",
    "                img_path, label = img_info.strip().split('\\t')\r\n",
    "                self.img_paths.append(img_path)\r\n",
    "                self.labels.append(int(label))\r\n",
    "\r\n",
    "\r\n",
    "    def __getitem__(self, index):\r\n",
    "        \"\"\"\r\n",
    "        获取一组数据\r\n",
    "        :param index: 文件索引号\r\n",
    "        :return:\r\n",
    "        \"\"\"\r\n",
    "        # 第一步打开图像文件并获取label值\r\n",
    "        img_path = self.img_paths[index]\r\n",
    "        img = Image.open(img_path)\r\n",
    "        if img.mode != 'RGB':\r\n",
    "            img = img.convert('RGB') \r\n",
    "        img = np.array(img).astype('float32')\r\n",
    "        img = img.transpose((2, 0, 1)) / 255\r\n",
    "        label = self.labels[index]\r\n",
    "        label = np.array([label], dtype=\"int64\")\r\n",
    "        return img, label\r\n",
    "\r\n",
    "    def print_sample(self, index: int = 0):\r\n",
    "        print(\"文件名\", self.img_paths[index], \"\\t标签值\", self.labels[index])\r\n",
    "\r\n",
    "    def __len__(self):\r\n",
    "        return len(self.img_paths)"
   ]
  },
  {
   "cell_type": "code",
   "execution_count": 7,
   "metadata": {
    "collapsed": false
   },
   "outputs": [],
   "source": [
    "#训练数据加载\r\n",
    "train_dataset = dataset('/home/aistudio/data',mode='train')\r\n",
    "train_loader = paddle.io.DataLoader(train_dataset, \r\n",
    "                                    batch_size=train_parameters['train_batch_size'], \r\n",
    "                                    shuffle=True\r\n",
    "                                    )\r\n",
    "#测试数据加载\r\n",
    "eval_dataset = dataset('/home/aistudio/data',mode='eval')\r\n",
    "eval_loader = paddle.io.DataLoader(eval_dataset,\r\n",
    "                                   batch_size=train_parameters['train_batch_size'], \r\n",
    "                                   shuffle=False\r\n",
    "                                   )"
   ]
  },
  {
   "cell_type": "code",
   "execution_count": 8,
   "metadata": {
    "collapsed": false
   },
   "outputs": [
    {
     "name": "stdout",
     "output_type": "stream",
     "text": [
      "文件名 /home/aistudio/data/zebra crossing/62.png \t标签值 0\n",
      "397\n",
      "文件名 /home/aistudio/data/zebra crossing/97.png \t标签值 0\n",
      "45\n",
      "(3, 50, 50)\n",
      "(1,)\n"
     ]
    }
   ],
   "source": [
    "train_dataset.print_sample(200)\r\n",
    "print(train_dataset.__len__())\r\n",
    "eval_dataset.print_sample(0)\r\n",
    "print(eval_dataset.__len__())\r\n",
    "print(eval_dataset.__getitem__(10)[0].shape)\r\n",
    "print(eval_dataset.__getitem__(10)[1].shape)"
   ]
  },
  {
   "cell_type": "markdown",
   "metadata": {
    "collapsed": false
   },
   "source": [
    "# **二、模型配置**\n",
    "\n"
   ]
  },
  {
   "cell_type": "code",
   "execution_count": 9,
   "metadata": {
    "collapsed": false
   },
   "outputs": [],
   "source": [
    "#定义卷积网络\r\n",
    "class MyCNN(paddle.nn.Layer):\r\n",
    "    def __init__(self):\r\n",
    "        super(MyCNN,self).__init__()\r\n",
    "\r\n",
    "        self.conv1 = paddle.nn.Conv2D(in_channels=3, out_channels=50, kernel_size=(3, 3))\r\n",
    "        self.pool1 = paddle.nn.MaxPool2D(kernel_size=2, stride=2)\r\n",
    "\r\n",
    "        self.conv2 = paddle.nn.Conv2D(in_channels=50, out_channels=100, kernel_size=(3,3))\r\n",
    "        self.pool2 = paddle.nn.MaxPool2D(kernel_size=2, stride=2)\r\n",
    "\r\n",
    "        self.conv3 = paddle.nn.Conv2D(in_channels=100, out_channels=100, kernel_size=(3,3))\r\n",
    "\r\n",
    "        self.flatten = paddle.nn.Flatten()\r\n",
    "\r\n",
    "        self.linear1 = paddle.nn.Linear(in_features=8100, out_features=100)\r\n",
    "        self.linear2 = paddle.nn.Linear(in_features=100, out_features=2)\r\n",
    "\r\n",
    "    #网络的前向计算过程\r\n",
    "    def forward(self,input):\r\n",
    "        output1 = self.conv1(input)\r\n",
    "        output1 = F.relu(output1)\r\n",
    "        output1 = self.pool1(output1)\r\n",
    "\r\n",
    "        output2 = self.conv2(output1)\r\n",
    "        output2 = F.relu(output2)\r\n",
    "        output2 = self.pool2(output2)\r\n",
    "\r\n",
    "        output3 = self.conv3(output2)\r\n",
    "        output3 = F.relu(output3)\r\n",
    "\r\n",
    "        output4 = self.flatten(output3)\r\n",
    "        output5 = self.linear1(output4)\r\n",
    "        output5 = F.relu(output5)\r\n",
    "        output6 = self.linear2(output5)\r\n",
    "        return output6"
   ]
  },
  {
   "cell_type": "markdown",
   "metadata": {
    "collapsed": false
   },
   "source": [
    "# **三、模型训练 && 四、模型评估**"
   ]
  },
  {
   "cell_type": "code",
   "execution_count": 10,
   "metadata": {
    "collapsed": false
   },
   "outputs": [],
   "source": [
    "def draw_process(title,color,iters,data,label):\r\n",
    "    plt.title(title, fontsize=24)\r\n",
    "    plt.xlabel(\"iter\", fontsize=20)\r\n",
    "    plt.ylabel(label, fontsize=20)\r\n",
    "    plt.plot(iters, data,color=color,label=label) \r\n",
    "    plt.legend()\r\n",
    "    plt.grid()\r\n",
    "    plt.show()"
   ]
  },
  {
   "cell_type": "code",
   "execution_count": 11,
   "metadata": {
    "collapsed": false
   },
   "outputs": [
    {
     "name": "stdout",
     "output_type": "stream",
     "text": [
      "epo: 0, step: 5, loss is: [2.0376985], acc is: [0.3125]\n",
      "epo: 0, step: 10, loss is: [0.64254534], acc is: [0.625]\n",
      "save model to: /home/aistudio/work/checkpoints/save_dir_10.pdparams\n",
      "epo: 0, step: 15, loss is: [0.74124146], acc is: [0.1875]\n",
      "epo: 0, step: 20, loss is: [0.7377455], acc is: [0.375]\n",
      "save model to: /home/aistudio/work/checkpoints/save_dir_20.pdparams\n",
      "epo: 0, step: 25, loss is: [0.6549097], acc is: [0.53846157]\n",
      "epo: 1, step: 30, loss is: [0.5770879], acc is: [0.6875]\n",
      "save model to: /home/aistudio/work/checkpoints/save_dir_30.pdparams\n",
      "epo: 1, step: 35, loss is: [0.46858868], acc is: [0.6875]\n",
      "epo: 1, step: 40, loss is: [0.42982608], acc is: [0.8125]\n",
      "save model to: /home/aistudio/work/checkpoints/save_dir_40.pdparams\n",
      "epo: 1, step: 45, loss is: [0.45506102], acc is: [0.875]\n",
      "epo: 1, step: 50, loss is: [0.43529642], acc is: [0.84615386]\n",
      "save model to: /home/aistudio/work/checkpoints/save_dir_50.pdparams\n"
     ]
    },
    {
     "name": "stderr",
     "output_type": "stream",
     "text": [
      "/opt/conda/envs/python35-paddle120-env/lib/python3.7/site-packages/matplotlib/cbook/__init__.py:2349: DeprecationWarning: Using or importing the ABCs from 'collections' instead of from 'collections.abc' is deprecated, and in 3.8 it will stop working\n",
      "  if isinstance(obj, collections.Iterator):\n",
      "/opt/conda/envs/python35-paddle120-env/lib/python3.7/site-packages/matplotlib/cbook/__init__.py:2366: DeprecationWarning: Using or importing the ABCs from 'collections' instead of from 'collections.abc' is deprecated, and in 3.8 it will stop working\n",
      "  return list(data) if isinstance(data, collections.MappingView) else data\n"
     ]
    },
    {
     "data": {
      "image/png": "[encoded data removed]",
      "text/plain": [
       "<Figure size 432x288 with 1 Axes>"
      ]
     },
     "metadata": {},
     "output_type": "display_data"
    },
    {
     "data": {
      "image/png": "[encoded data removed]",
      "text/plain": [
       "<Figure size 432x288 with 1 Axes>"
      ]
     },
     "metadata": {},
     "output_type": "display_data"
    }
   ],
   "source": [
    "model = MyCNN()\r\n",
    "model.train()\r\n",
    "cross_entropy = paddle.nn.CrossEntropyLoss()\r\n",
    "optimizer = paddle.optimizer.Adam(learning_rate=train_parameters['learning_strategy']['lr'],\r\n",
    "                                  parameters=model.parameters()) \r\n",
    "                                  \r\n",
    "steps = 0\r\n",
    "Iters, total_loss, total_acc = [], [], []\r\n",
    "\r\n",
    "for epo in range(train_parameters['num_epochs']):\r\n",
    "    for _, data in enumerate(train_loader()):\r\n",
    "        steps += 1\r\n",
    "        x_data = data[0]\r\n",
    "        y_data = data[1]\r\n",
    "        predicts = model(x_data)\r\n",
    "        loss = cross_entropy(predicts, y_data)\r\n",
    "        acc = paddle.metric.accuracy(predicts, y_data)\r\n",
    "        loss.backward()\r\n",
    "        optimizer.step()\r\n",
    "        optimizer.clear_grad()\r\n",
    "        if steps % train_parameters[\"skip_steps\"] == 0:\r\n",
    "            Iters.append(steps)\r\n",
    "            total_loss.append(loss.numpy()[0])\r\n",
    "            total_acc.append(acc.numpy()[0])\r\n",
    "            #打印中间过程\r\n",
    "            print('epo: {}, step: {}, loss is: {}, acc is: {}'\\\r\n",
    "                  .format(epo, steps, loss.numpy(), acc.numpy()))\r\n",
    "        #保存模型参数\r\n",
    "        if steps % train_parameters[\"save_steps\"] == 0:\r\n",
    "            save_path = train_parameters[\"checkpoints\"]+\"/\"+\"save_dir_\" + str(steps) + '.pdparams'\r\n",
    "            print('save model to: ' + save_path)\r\n",
    "            paddle.save(model.state_dict(),save_path)\r\n",
    "paddle.save(model.state_dict(),train_parameters[\"checkpoints\"]+\"/\"+\"save_dir_final.pdparams\")\r\n",
    "draw_process(\"trainning loss\",\"red\",Iters,total_loss,\"trainning loss\")\r\n",
    "draw_process(\"trainning acc\",\"green\",Iters,total_acc,\"trainning acc\")"
   ]
  },
  {
   "cell_type": "code",
   "execution_count": 12,
   "metadata": {
    "collapsed": false
   },
   "outputs": [
    {
     "name": "stdout",
     "output_type": "stream",
     "text": [
      "模型在验证集上的准确率为： 0.911859\n"
     ]
    }
   ],
   "source": [
    "\r\n",
    "'''\r\n",
    "模型预测\r\n",
    "'''\r\n",
    "model__state_dict = paddle.load('/home/aistudio/work/checkpoints/save_dir_final.pdparams')\r\n",
    "model_eval = MyCNN()\r\n",
    "model_eval.set_state_dict(model__state_dict) \r\n",
    "model_eval.eval()\r\n",
    "accs = []\r\n",
    "\r\n",
    "for _, data in enumerate(eval_loader()):\r\n",
    "    x_data = data[0]\r\n",
    "    y_data = data[1]\r\n",
    "    predicts = model_eval(x_data)\r\n",
    "    acc = paddle.metric.accuracy(predicts, y_data)\r\n",
    "    accs.append(acc.numpy()[0])\r\n",
    "print('模型在验证集上的准确率为：',np.mean(accs))"
   ]
  },
  {
   "cell_type": "markdown",
   "metadata": {
    "collapsed": false
   },
   "source": [
    "# **五、模型预测**"
   ]
  },
  {
   "cell_type": "code",
   "execution_count": 13,
   "metadata": {
    "collapsed": false
   },
   "outputs": [],
   "source": [
    "\r\n",
    "def load_image(img_path):\r\n",
    "    '''\r\n",
    "    预测图片预处理\r\n",
    "    '''\r\n",
    "    img = Image.open(img_path)\r\n",
    "    # print(img.mode)\r\n",
    "    if img.mode != 'RGB': \r\n",
    "        img = img.convert('RGB') \r\n",
    "    img = img.resize((50, 50), Image.ANTIALIAS)\r\n",
    "    img = np.array(img).astype('float32') \r\n",
    "    img = img.transpose((2, 0, 1)) / 255  # HWC to CHW 并像素归一化\r\n",
    "    return img"
   ]
  },
  {
   "cell_type": "code",
   "execution_count": 14,
   "metadata": {
    "collapsed": false
   },
   "outputs": [
    {
     "data": {
      "image/png": "[encoded data removed]",
      "text/plain": [
       "<Figure size 432x288 with 1 Axes>"
      ]
     },
     "metadata": {},
     "output_type": "display_data"
    },
    {
     "name": "stdout",
     "output_type": "stream",
     "text": [
      "Tensor(shape=[1, 2], dtype=float32, place=CPUPlace, stop_gradient=False,\n",
      "       [[-0.20048264, -1.90429127]])\n",
      "Zebra crossing:0.85, Others:0.15\n"
     ]
    }
   ],
   "source": [
    "\r\n",
    "model__state_dict = paddle.load('/home/aistudio/work/checkpoints/save_dir_final.pdparams')\r\n",
    "model_predict = MyCNN()\r\n",
    "model_predict.set_state_dict(model__state_dict) \r\n",
    "model_predict.eval()\r\n",
    "infer_path='/home/aistudio/data/zebra crossing/10.png'\r\n",
    "infer_img = Image.open(infer_path)\r\n",
    "plt.imshow(infer_img)          #根据数组绘制图像\r\n",
    "plt.show()                     #显示图像\r\n",
    "#对预测图片进行预处理\r\n",
    "infer_img = load_image(infer_path)\r\n",
    "# print(type(infer_img))\r\n",
    "infer_img = infer_img[np.newaxis,:, : ,:]  #reshape(-1,3,50,50)\r\n",
    "infer_img = paddle.to_tensor(infer_img)\r\n",
    "results = model_predict(infer_img)\r\n",
    "print(results)\r\n",
    "results = paddle.nn.functional.softmax(results)\r\n",
    "print(\"Zebra crossing:{:.2f}, Others:{:.2f}\" .format(results.numpy()[0][0],results.numpy()[0][1]))"
   ]
  },
  {
   "cell_type": "code",
   "execution_count": null,
   "metadata": {
    "collapsed": false
   },
   "outputs": [],
   "source": []
  }
 ],
 "metadata": {
  "kernelspec": {
   "display_name": "PaddlePaddle 2.0.0b0 (Python 3.5)",
   "language": "python",
   "name": "py35-paddle1.2.0"
  },
  "language_info": {
   "codemirror_mode": {
    "name": "ipython",
    "version": 3
   },
   "file_extension": ".py",
   "mimetype": "text/x-python",
   "name": "python",
   "nbconvert_exporter": "python",
   "pygments_lexer": "ipython3",
   "version": "3.7.4"
  }
 },
 "nbformat": 4,
 "nbformat_minor": 1
}
